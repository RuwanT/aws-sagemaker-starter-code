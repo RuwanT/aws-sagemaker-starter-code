{
 "cells": [
  {
   "cell_type": "markdown",
   "metadata": {},
   "source": [
    "# Starter Code for Submitting Jobs with AWS SageMaker\n",
    "\n",
    "**This code is adapted from** [AWS lab code](https://github.com/awslabs/amazon-sagemaker-examples/blob/master/sagemaker-python-sdk/tensorflow_script_mode_training_and_serving/tensorflow_script_mode_training_and_serving.ipynb)\n",
    "\n",
    "In this tutorial, we use the SageMaker Python SDK to launch a training job on a GPU instance and obtain the trained model. Then we evalaute the trained model on the local sagemaker instance. \n",
    "\n",
    "Script mode is a training script format for TensorFlow that lets you execute any TensorFlow training script in SageMaker with minimal modification. The SageMaker Python SDK handles transferring your script to a SageMaker training instance. On the training instance, SageMaker's native TensorFlow support sets up training-related environment variables and executes your training script. \n",
    "\n",
    "Script mode supports training with a Python script, a Python module, or a shell script. Here, we use a Python script to train a classification model on the MNIST dataset. \n",
    "\n",
    "First lets import the necessary packages and setup the environment."
   ]
  },
  {
   "cell_type": "code",
   "execution_count": null,
   "metadata": {},
   "outputs": [],
   "source": [
    "import os\n",
    "import sagemaker\n",
    "from sagemaker import get_execution_role\n",
    "import boto3\n",
    "from sagemaker.tensorflow import TensorFlow\n",
    "\n",
    "sagemaker_session = sagemaker.Session()\n",
    "\n",
    "role = get_execution_role()\n",
    "region = sagemaker_session.boto_session.region_name\n",
    "print(role, region)"
   ]
  },
  {
   "cell_type": "markdown",
   "metadata": {},
   "source": [
    "## Training Data\n",
    "The MNIST dataset has been loaded to the public S3 buckets sagemaker-sample-data-<REGION> under the prefix tensorflow/mnist. There are four .npy file under this prefix:\n",
    "    \n",
    "- train_data.npy\n",
    "- eval_data.npy\n",
    "- train_labels.npy\n",
    "- eval_labels.npy\n",
    "    \n",
    "You can download this data and upload to folder `../Data/` or, run the following code to download data automatically.\n",
    "\n",
    "**This is an optional step**\n",
    "\n",
    "The following code will download the MNIST data from the public s3 bucket to local sagemaker instance. \n",
    "You could have directly run the model from this bucket. To illustrate how to work with your own data, we will first download the data to the local instance and upload to our own s3 bucket."
   ]
  },
  {
   "cell_type": "code",
   "execution_count": null,
   "metadata": {},
   "outputs": [],
   "source": [
    "!aws --region {region} s3 cp s3://sagemaker-sample-data-{region}/tensorflow/mnist/train_data.npy ../Data/train_data.npy\n",
    "!aws --region {region} s3 cp s3://sagemaker-sample-data-{region}/tensorflow/mnist/train_labels.npy ../Data/train_labels.npy\n",
    "!aws --region {region} s3 cp s3://sagemaker-sample-data-{region}/tensorflow/mnist/eval_data.npy ../Data/eval_data.npy\n",
    "!aws --region {region} s3 cp s3://sagemaker-sample-data-{region}/tensorflow/mnist/eval_labels.npy ../Data/eval_labels.npy"
   ]
  },
  {
   "cell_type": "markdown",
   "metadata": {},
   "source": [
    "Script mode requires your data to be in a s3 bucket. so lets copy the downloaded data to s3.\n",
    "\n",
    "In the RaaS environment you only can write to a folder with your student ID, in a specific bucket. The bucket you can use is: `'sagemaker-ap-southeast-2-986428434208'`."
   ]
  },
  {
   "cell_type": "code",
   "execution_count": null,
   "metadata": {},
   "outputs": [],
   "source": [
    "bucket = 'sagemaker-ap-southeast-2-986428434208'\n",
    "prefix = 's123456'     #THIS SHOULD BE YOUR STUDENT NUMBER\n",
    "\n",
    "def write_to_s3(file, bucket, prefix):\n",
    "    return boto3.Session(region_name=region).resource('s3').Bucket(bucket).Object(prefix).upload_file(file)\n",
    "\n",
    "write_to_s3('../Data/train_data.npy', bucket, f'{prefix}/mnist_data/train_data.npy')\n",
    "write_to_s3('../Data/train_labels.npy', bucket, f'{prefix}/mnist_data/train_labels.npy')\n",
    "write_to_s3('../Data/eval_data.npy', bucket, f'{prefix}/mnist_data/eval_data.npy')\n",
    "write_to_s3('../Data/eval_labels.npy', bucket, f'{prefix}/mnist_data/eval_labels.npy')\n",
    "\n",
    "training_input_path = os.path.join(\"s3://\", bucket, prefix, \"mnist_data\")\n",
    "print(training_input_path)"
   ]
  },
  {
   "cell_type": "markdown",
   "metadata": {},
   "source": [
    "## Tensorflow training script\n",
    "Now we have setup the data. The next step is to develop your training script.\n",
    "\n",
    "The script should be in `mnist_2.py`\n",
    "\n",
    "This tutorial's training script was adapted from TensorFlow's official CNN MNIST example. We have modified it to handle the model_dir parameter passed in by SageMaker. This is an S3 path which can be used for data sharing during distributed training and checkpointing and/or model persistence. We have also added an argument-parsing function to handle processing training-related variables.\n",
    "\n",
    "At the end of the training job we have added a step to export the trained model to the path stored in the environment variable SM_MODEL_DIR, which always points to /opt/ml/model. This is critical because SageMaker uploads all the model artefacts in this folder to S3 at end of training."
   ]
  },
  {
   "cell_type": "markdown",
   "metadata": {},
   "source": [
    "## Create a training job using the TensorFlow estimator\n",
    "The sagemaker.tensorflow.TensorFlow estimator handles locating the script mode container, uploading your script to a S3 location and creating a SageMaker training job. Let's call out a couple important parameters here:\n",
    "\n",
    "py_version is set to 'py3' to indicate that we are using script mode since legacy mode supports only Python 2. Though Python 2 will be deprecated soon, you can use script mode with Python 2 by setting py_version to 'py2' and script_mode to True.\n",
    "\n",
    "`framework_version='2.1.0'` indicate that you will be using Tensorflow 2.0 and `train_instance_type='ml.p2.xlarge'` indicated that the training job is to be run on an AWS 'ml.p2.xlarge' instance.\n",
    "\n",
    "<!-- distributions is used to configure the distributed training setup. It's required only if you are doing distributed training either across a cluster of instances or across multiple GPUs. Here we are using parameter servers as the distributed training schema. SageMaker training jobs run on homogeneous clusters. To make parameter server more performant in the SageMaker setup, we run a parameter server on every instance in the cluster, so there is no need to specify the number of parameter servers to launch. Script mode also supports distributed training with Horovod. You can find the full documentation on how to configure distributions here. -->"
   ]
  },
  {
   "cell_type": "code",
   "execution_count": null,
   "metadata": {},
   "outputs": [],
   "source": [
    "mnist_estimator2 = TensorFlow(entry_point='mnist_2.py',\n",
    "                             role=role,\n",
    "                             train_instance_count=1,\n",
    "                             train_instance_type='ml.p2.xlarge',\n",
    "                             framework_version='2.1.0',\n",
    "                             py_version='py3',\n",
    "                             # distributions={'parameter_server': {'enabled': True}},\n",
    "                             output_path='s3://'+bucket,\n",
    "                             base_job_name=prefix)"
   ]
  },
  {
   "cell_type": "markdown",
   "metadata": {},
   "source": [
    "## Calling fit\n",
    "To start a training job, we call estimator.fit(training_data_uri).\n",
    "\n",
    "An S3 location is used here as the input. fit creates a default channel named 'training', which points to this S3 location. In the training script we can then access the training data from the location stored in SM_CHANNEL_TRAINING. fit accepts a couple other types of input as well. See the API doc here for details.\n",
    "\n",
    "When training starts, the TensorFlow container executes mnist_2.py, passing hyperparameters and model_dir from the estimator as script arguments. \n",
    "\n",
    "When training is complete, the training job will upload the saved model for TensorFlow serving."
   ]
  },
  {
   "cell_type": "code",
   "execution_count": null,
   "metadata": {},
   "outputs": [],
   "source": [
    "mnist_estimator2.fit(training_input_path)"
   ]
  },
  {
   "cell_type": "markdown",
   "metadata": {},
   "source": [
    "## Retrieving the model\n",
    "\n",
    "The fit function trains the model and saves the output to a s3 location. lets retrieve the trained model to the local instance."
   ]
  },
  {
   "cell_type": "code",
   "execution_count": null,
   "metadata": {},
   "outputs": [],
   "source": [
    "import os.path\n",
    "trained_model_output_path = os.path.dirname(mnist_estimator2.model_dir)\n",
    "trained_model_output_path = os.path.join(trained_model_output_path, \"output/\")\n",
    "print(trained_model_output_path)"
   ]
  },
  {
   "cell_type": "code",
   "execution_count": null,
   "metadata": {},
   "outputs": [],
   "source": [
    "!aws s3 ls $trained_model_output_path\n",
    "output_file_path = trained_model_output_path + 'model.tar.gz'\n",
    "!aws s3 cp $output_file_path '../Outputs/model.tar.gz'"
   ]
  },
  {
   "cell_type": "markdown",
   "metadata": {},
   "source": [
    "Need to unzip. The following command will unzip the files to `../Outputs` folder"
   ]
  },
  {
   "cell_type": "code",
   "execution_count": null,
   "metadata": {},
   "outputs": [],
   "source": [
    "!tar -zxvf ../Outputs/model.tar.gz -C ../Outputs/"
   ]
  },
  {
   "cell_type": "markdown",
   "metadata": {},
   "source": [
    "## Evaluating\n",
    "\n",
    "Now lets evalaute the model using the test data we have"
   ]
  },
  {
   "cell_type": "code",
   "execution_count": null,
   "metadata": {},
   "outputs": [],
   "source": [
    "from mnist_2 import _load_testing_data\n",
    "\n",
    "x_test, y_test = _load_testing_data('../Data/')"
   ]
  },
  {
   "cell_type": "code",
   "execution_count": null,
   "metadata": {},
   "outputs": [],
   "source": [
    "from mnist_2 import evalaute_model\n",
    "\n",
    "test_acc = evalaute_model(x_test, y_test, '../Outputs/my_model.h5')\n",
    "\n",
    "print(\"Test Accuracy: \", test_acc[1])"
   ]
  }
 ],
 "metadata": {
  "kernelspec": {
   "display_name": "conda_tensorflow2_p36",
   "language": "python",
   "name": "conda_tensorflow2_p36"
  },
  "language_info": {
   "codemirror_mode": {
    "name": "ipython",
    "version": 3
   },
   "file_extension": ".py",
   "mimetype": "text/x-python",
   "name": "python",
   "nbconvert_exporter": "python",
   "pygments_lexer": "ipython3",
   "version": "3.6.10"
  }
 },
 "nbformat": 4,
 "nbformat_minor": 4
}
